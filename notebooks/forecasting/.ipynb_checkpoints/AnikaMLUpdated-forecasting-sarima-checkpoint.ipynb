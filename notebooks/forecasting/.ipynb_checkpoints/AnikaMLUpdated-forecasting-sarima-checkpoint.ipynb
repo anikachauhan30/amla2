{
 "cells": [
  {
   "cell_type": "code",
   "execution_count": 16,
   "id": "936a70b1",
   "metadata": {},
   "outputs": [],
   "source": [
    "import pandas as pd\n",
    "import numpy as np\n",
    "import os\n",
    "from sklearn.preprocessing import LabelEncoder\n",
    "from statsmodels.tsa.statespace.sarimax import SARIMAX\n",
    "import matplotlib.pyplot as plt"
   ]
  },
  {
   "cell_type": "code",
   "execution_count": 2,
   "id": "a0e2c794",
   "metadata": {},
   "outputs": [],
   "source": [
    "df_cleaned = pd.read_csv('./df_cleaned.csv')"
   ]
  },
  {
   "cell_type": "code",
   "execution_count": 3,
   "id": "9dd47fa6",
   "metadata": {
    "scrolled": true
   },
   "outputs": [
    {
     "name": "stdout",
     "output_type": "stream",
     "text": [
      "<class 'pandas.core.frame.DataFrame'>\n",
      "RangeIndex: 34720691 entries, 0 to 34720690\n",
      "Data columns (total 7 columns):\n",
      " #   Column      Dtype  \n",
      "---  ------      -----  \n",
      " 0   Unnamed: 0  int64  \n",
      " 1   item_id     int64  \n",
      " 2   store_id    int64  \n",
      " 3   value       float64\n",
      " 4   date        object \n",
      " 5   wm_yr_wk    int64  \n",
      " 6   sell_price  float64\n",
      "dtypes: float64(2), int64(4), object(1)\n",
      "memory usage: 1.8+ GB\n"
     ]
    }
   ],
   "source": [
    "df_cleaned.info()"
   ]
  },
  {
   "cell_type": "code",
   "execution_count": 4,
   "id": "4a7d2cba",
   "metadata": {},
   "outputs": [],
   "source": [
    "calendar_events = pd.read_csv('./calendar_events.csv')"
   ]
  },
  {
   "cell_type": "code",
   "execution_count": 5,
   "id": "bbae847e",
   "metadata": {},
   "outputs": [
    {
     "name": "stdout",
     "output_type": "stream",
     "text": [
      "<class 'pandas.core.frame.DataFrame'>\n",
      "RangeIndex: 167 entries, 0 to 166\n",
      "Data columns (total 3 columns):\n",
      " #   Column      Non-Null Count  Dtype \n",
      "---  ------      --------------  ----- \n",
      " 0   date        167 non-null    object\n",
      " 1   event_name  167 non-null    object\n",
      " 2   event_type  167 non-null    object\n",
      "dtypes: object(3)\n",
      "memory usage: 4.0+ KB\n"
     ]
    }
   ],
   "source": [
    "calendar_events.info()"
   ]
  },
  {
   "cell_type": "code",
   "execution_count": 6,
   "id": "100fcfb5",
   "metadata": {
    "scrolled": true
   },
   "outputs": [],
   "source": [
    "df_cleaned['date'] = pd.to_datetime(df_cleaned['date'], format='%Y-%m-%d')\n",
    "df_cleaned['sell_price'] = df_cleaned['sell_price'].fillna(0)\n",
    "calendar_events['date'] = pd.to_datetime(df_cleaned['date'], format='%Y-%m-%d')\n",
    "df_cleaned = pd.merge(df_cleaned, calendar_events, left_on='date', right_on='date', how='left')"
   ]
  },
  {
   "cell_type": "code",
   "execution_count": 7,
   "id": "670007b4",
   "metadata": {},
   "outputs": [],
   "source": [
    "df_cleaned['rev'] = df_cleaned['value'] * df_cleaned['sell_price']"
   ]
  },
  {
   "cell_type": "code",
   "execution_count": 8,
   "id": "551522de",
   "metadata": {},
   "outputs": [
    {
     "name": "stdout",
     "output_type": "stream",
     "text": [
      "<class 'pandas.core.frame.DataFrame'>\n",
      "Int64Index: 34720691 entries, 0 to 34720690\n",
      "Data columns (total 10 columns):\n",
      " #   Column      Dtype         \n",
      "---  ------      -----         \n",
      " 0   Unnamed: 0  int64         \n",
      " 1   item_id     int64         \n",
      " 2   store_id    int64         \n",
      " 3   value       float64       \n",
      " 4   date        datetime64[ns]\n",
      " 5   wm_yr_wk    int64         \n",
      " 6   sell_price  float64       \n",
      " 7   event_name  object        \n",
      " 8   event_type  object        \n",
      " 9   rev         float64       \n",
      "dtypes: datetime64[ns](1), float64(3), int64(4), object(2)\n",
      "memory usage: 2.8+ GB\n"
     ]
    }
   ],
   "source": [
    "df_cleaned.info()"
   ]
  },
  {
   "cell_type": "code",
   "execution_count": 9,
   "id": "f19f2fe0",
   "metadata": {
    "scrolled": true
   },
   "outputs": [
    {
     "data": {
      "text/html": [
       "<div>\n",
       "<style scoped>\n",
       "    .dataframe tbody tr th:only-of-type {\n",
       "        vertical-align: middle;\n",
       "    }\n",
       "\n",
       "    .dataframe tbody tr th {\n",
       "        vertical-align: top;\n",
       "    }\n",
       "\n",
       "    .dataframe thead th {\n",
       "        text-align: right;\n",
       "    }\n",
       "</style>\n",
       "<table border=\"1\" class=\"dataframe\">\n",
       "  <thead>\n",
       "    <tr style=\"text-align: right;\">\n",
       "      <th></th>\n",
       "      <th>item_id</th>\n",
       "      <th>store_id</th>\n",
       "      <th>value</th>\n",
       "      <th>date</th>\n",
       "      <th>wm_yr_wk</th>\n",
       "      <th>sell_price</th>\n",
       "      <th>event_name</th>\n",
       "      <th>event_type</th>\n",
       "      <th>rev</th>\n",
       "    </tr>\n",
       "  </thead>\n",
       "  <tbody>\n",
       "    <tr>\n",
       "      <th>0</th>\n",
       "      <td>1437</td>\n",
       "      <td>0</td>\n",
       "      <td>0.0</td>\n",
       "      <td>2013-07-13</td>\n",
       "      <td>11325</td>\n",
       "      <td>9.58</td>\n",
       "      <td>SuperBowl</td>\n",
       "      <td>Sporting</td>\n",
       "      <td>0.0</td>\n",
       "    </tr>\n",
       "    <tr>\n",
       "      <th>1</th>\n",
       "      <td>1437</td>\n",
       "      <td>0</td>\n",
       "      <td>0.0</td>\n",
       "      <td>2013-07-14</td>\n",
       "      <td>11325</td>\n",
       "      <td>9.58</td>\n",
       "      <td>ValentinesDay</td>\n",
       "      <td>Cultural</td>\n",
       "      <td>0.0</td>\n",
       "    </tr>\n",
       "    <tr>\n",
       "      <th>2</th>\n",
       "      <td>1437</td>\n",
       "      <td>0</td>\n",
       "      <td>0.0</td>\n",
       "      <td>2013-07-15</td>\n",
       "      <td>11325</td>\n",
       "      <td>9.58</td>\n",
       "      <td>PresidentsDay</td>\n",
       "      <td>National</td>\n",
       "      <td>0.0</td>\n",
       "    </tr>\n",
       "    <tr>\n",
       "      <th>3</th>\n",
       "      <td>1437</td>\n",
       "      <td>0</td>\n",
       "      <td>0.0</td>\n",
       "      <td>2013-07-16</td>\n",
       "      <td>11325</td>\n",
       "      <td>9.58</td>\n",
       "      <td>LentStart</td>\n",
       "      <td>Religious</td>\n",
       "      <td>0.0</td>\n",
       "    </tr>\n",
       "    <tr>\n",
       "      <th>4</th>\n",
       "      <td>1437</td>\n",
       "      <td>0</td>\n",
       "      <td>0.0</td>\n",
       "      <td>2013-07-17</td>\n",
       "      <td>11325</td>\n",
       "      <td>9.58</td>\n",
       "      <td>LentWeek2</td>\n",
       "      <td>Religious</td>\n",
       "      <td>0.0</td>\n",
       "    </tr>\n",
       "    <tr>\n",
       "      <th>...</th>\n",
       "      <td>...</td>\n",
       "      <td>...</td>\n",
       "      <td>...</td>\n",
       "      <td>...</td>\n",
       "      <td>...</td>\n",
       "      <td>...</td>\n",
       "      <td>...</td>\n",
       "      <td>...</td>\n",
       "      <td>...</td>\n",
       "    </tr>\n",
       "    <tr>\n",
       "      <th>34720686</th>\n",
       "      <td>1436</td>\n",
       "      <td>9</td>\n",
       "      <td>3.0</td>\n",
       "      <td>2015-04-14</td>\n",
       "      <td>11511</td>\n",
       "      <td>1.00</td>\n",
       "      <td>NaN</td>\n",
       "      <td>NaN</td>\n",
       "      <td>3.0</td>\n",
       "    </tr>\n",
       "    <tr>\n",
       "      <th>34720687</th>\n",
       "      <td>1436</td>\n",
       "      <td>9</td>\n",
       "      <td>0.0</td>\n",
       "      <td>2015-04-15</td>\n",
       "      <td>11511</td>\n",
       "      <td>1.00</td>\n",
       "      <td>NaN</td>\n",
       "      <td>NaN</td>\n",
       "      <td>0.0</td>\n",
       "    </tr>\n",
       "    <tr>\n",
       "      <th>34720688</th>\n",
       "      <td>1436</td>\n",
       "      <td>9</td>\n",
       "      <td>4.0</td>\n",
       "      <td>2015-04-16</td>\n",
       "      <td>11511</td>\n",
       "      <td>1.00</td>\n",
       "      <td>NaN</td>\n",
       "      <td>NaN</td>\n",
       "      <td>4.0</td>\n",
       "    </tr>\n",
       "    <tr>\n",
       "      <th>34720689</th>\n",
       "      <td>1436</td>\n",
       "      <td>9</td>\n",
       "      <td>0.0</td>\n",
       "      <td>2015-04-17</td>\n",
       "      <td>11511</td>\n",
       "      <td>1.00</td>\n",
       "      <td>NaN</td>\n",
       "      <td>NaN</td>\n",
       "      <td>0.0</td>\n",
       "    </tr>\n",
       "    <tr>\n",
       "      <th>34720690</th>\n",
       "      <td>1436</td>\n",
       "      <td>9</td>\n",
       "      <td>3.0</td>\n",
       "      <td>2015-04-18</td>\n",
       "      <td>11512</td>\n",
       "      <td>1.00</td>\n",
       "      <td>NaN</td>\n",
       "      <td>NaN</td>\n",
       "      <td>3.0</td>\n",
       "    </tr>\n",
       "  </tbody>\n",
       "</table>\n",
       "<p>34720691 rows × 9 columns</p>\n",
       "</div>"
      ],
      "text/plain": [
       "          item_id  store_id  value       date  wm_yr_wk  sell_price  \\\n",
       "0            1437         0    0.0 2013-07-13     11325        9.58   \n",
       "1            1437         0    0.0 2013-07-14     11325        9.58   \n",
       "2            1437         0    0.0 2013-07-15     11325        9.58   \n",
       "3            1437         0    0.0 2013-07-16     11325        9.58   \n",
       "4            1437         0    0.0 2013-07-17     11325        9.58   \n",
       "...           ...       ...    ...        ...       ...         ...   \n",
       "34720686     1436         9    3.0 2015-04-14     11511        1.00   \n",
       "34720687     1436         9    0.0 2015-04-15     11511        1.00   \n",
       "34720688     1436         9    4.0 2015-04-16     11511        1.00   \n",
       "34720689     1436         9    0.0 2015-04-17     11511        1.00   \n",
       "34720690     1436         9    3.0 2015-04-18     11512        1.00   \n",
       "\n",
       "             event_name event_type  rev  \n",
       "0             SuperBowl   Sporting  0.0  \n",
       "1         ValentinesDay   Cultural  0.0  \n",
       "2         PresidentsDay   National  0.0  \n",
       "3             LentStart  Religious  0.0  \n",
       "4             LentWeek2  Religious  0.0  \n",
       "...                 ...        ...  ...  \n",
       "34720686            NaN        NaN  3.0  \n",
       "34720687            NaN        NaN  0.0  \n",
       "34720688            NaN        NaN  4.0  \n",
       "34720689            NaN        NaN  0.0  \n",
       "34720690            NaN        NaN  3.0  \n",
       "\n",
       "[34720691 rows x 9 columns]"
      ]
     },
     "execution_count": 9,
     "metadata": {},
     "output_type": "execute_result"
    }
   ],
   "source": [
    "column_to_drop = 'Unnamed: 0'\n",
    "df_cleaned = df_cleaned.drop(column_to_drop, axis=1)\n",
    "df_cleaned"
   ]
  },
  {
   "cell_type": "code",
   "execution_count": 10,
   "id": "0f435ed7",
   "metadata": {},
   "outputs": [],
   "source": [
    "label_encoders = {}\n",
    "categorical_cols = ['item_id', 'store_id']\n",
    "for col in categorical_cols:\n",
    "    le = LabelEncoder()\n",
    "    df_cleaned[col] = le.fit_transform(df_cleaned[col])\n",
    "    label_encoders[col] = le"
   ]
  },
  {
   "cell_type": "code",
   "execution_count": 11,
   "id": "90058e01",
   "metadata": {},
   "outputs": [
    {
     "name": "stderr",
     "output_type": "stream",
     "text": [
      "C:\\Users\\anika\\AppData\\Local\\Temp\\ipykernel_22892\\367245684.py:2: FutureWarning: The default value of numeric_only in DataFrameGroupBy.sum is deprecated. In a future version, numeric_only will default to False. Either specify numeric_only or select only columns which should be valid for the function.\n",
      "  daily_revenue = time_series_df.resample('D').sum()\n"
     ]
    }
   ],
   "source": [
    "time_series_df = df_cleaned.set_index('date')\n",
    "daily_revenue = time_series_df.resample('D').sum()"
   ]
  },
  {
   "cell_type": "code",
   "execution_count": 35,
   "id": "59ea5452",
   "metadata": {},
   "outputs": [],
   "source": []
  },
  {
   "cell_type": "code",
   "execution_count": 39,
   "id": "f28063be",
   "metadata": {},
   "outputs": [],
   "source": [
    "def forecast_total_revenue(input_date):\n",
    "    \n",
    "    # SARIMA Model Training\n",
    "    order = (1, 1, 1)  # Non-seasonal order\n",
    "    seasonal_order = (1, 1, 1, 7)  # Seasonal order with a 7-day period\n",
    "    model = SARIMAX(daily_revenue['rev'], order=order, seasonal_order=seasonal_order)\n",
    "    model_fit = model.fit(disp=False)\n",
    "    \n",
    "    # Create a date range for the next 7 days\n",
    "    forecast_start_date = input_date\n",
    "    forecast_end_date = input_date + pd.DateOffset(days=6)\n",
    "    forecast_dates = pd.date_range(forecast_start_date, forecast_end_date)\n",
    "    \n",
    "    total_revenue = 0  # Initialize total revenue\n",
    "    \n",
    "    # Forecast revenue for each day in the date range\n",
    "    for forecast_date in forecast_dates:\n",
    "        # Create a new SARIMA model for each forecast\n",
    "        model = SARIMAX(daily_revenue['rev'], order=order, seasonal_order=seasonal_order)\n",
    "        model_fit = model.fit(disp=False)\n",
    "        \n",
    "        # Forecast revenue for the current day\n",
    "        forecast = model_fit.get_forecast(steps=1)\n",
    "        forecasted_value = forecast.predicted_mean[0]\n",
    "        \n",
    "        # Add the forecasted value to total revenue\n",
    "        total_revenue += forecasted_value\n",
    "    \n",
    "    return total_revenue"
   ]
  },
  {
   "cell_type": "code",
   "execution_count": 41,
   "id": "e1c7c2bf",
   "metadata": {},
   "outputs": [
    {
     "name": "stdout",
     "output_type": "stream",
     "text": [
      "Total Forecasted Revenue for the Next 7 Days: $962692.41\n"
     ]
    }
   ],
   "source": [
    "input_date = pd.to_datetime('2020-1-30', format='%Y-%m-%d')  # Replace with your desired input date\n",
    "total_revenue = forecast_total_revenue(input_date)\n",
    "\n",
    "# Print the total forecasted revenue\n",
    "print(f\"Total Forecasted Revenue for the Next 7 Days: ${total_revenue:.2f}\")"
   ]
  },
  {
   "cell_type": "code",
   "execution_count": null,
   "id": "e707bed8",
   "metadata": {},
   "outputs": [],
   "source": []
  }
 ],
 "metadata": {
  "kernelspec": {
   "display_name": "Python 3 (ipykernel)",
   "language": "python",
   "name": "python3"
  },
  "language_info": {
   "codemirror_mode": {
    "name": "ipython",
    "version": 3
   },
   "file_extension": ".py",
   "mimetype": "text/x-python",
   "name": "python",
   "nbconvert_exporter": "python",
   "pygments_lexer": "ipython3",
   "version": "3.11.4"
  }
 },
 "nbformat": 4,
 "nbformat_minor": 5
}
