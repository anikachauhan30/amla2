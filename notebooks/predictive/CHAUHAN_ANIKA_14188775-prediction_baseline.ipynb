{
 "cells": [
  {
   "cell_type": "code",
   "execution_count": 2,
   "metadata": {},
   "outputs": [
    {
     "name": "stdout",
     "output_type": "stream",
     "text": [
      "['.ipynb_checkpoints', 'AnikaML.ipynb', 'AnikaMLUpdated-forecasting-sarima.ipynb', 'AnikaMLUpdated-forecasting.ipynb', 'AnikaMLUpdated-prediction-baseline.ipynb', 'AnikaMLUpdated-prediction-lgb.ipynb', 'AnikaMLUpdated-prediction-xgb-params.ipynb', 'calendar.csv', 'calendar_events.csv', 'CHAUHAN_ANIKA-14188775-AT2', 'df_cleaned.csv', 'items_weekly_sell_prices.csv', 'melted_df.csv', 'models', 'New folder', 'notebooks', 'reports', 'sales_test.csv', 'sales_train.csv', 'screenshots', 'Untitled.ipynb', 'Untitled1.ipynb']\n"
     ]
    }
   ],
   "source": [
    "import pandas as pd\n",
    "import os\n",
    "from sklearn.preprocessing import LabelEncoder\n",
    "from sklearn.model_selection import train_test_split\n",
    "import lightgbm as lgb\n",
    "from sklearn.metrics import mean_absolute_error\n",
    "from sklearn.pipeline import Pipeline\n",
    "from sklearn.preprocessing import StandardScaler, OneHotEncoder\n",
    "from sklearn.compose import ColumnTransformer\n",
    "from joblib import dump\n",
    "print(os.listdir(\"./\"))"
   ]
  },
  {
   "cell_type": "code",
   "execution_count": 3,
   "metadata": {},
   "outputs": [],
   "source": [
    "melted_df=pd.read_csv(\"melted_df.csv\")"
   ]
  },
  {
   "cell_type": "code",
   "execution_count": 4,
   "metadata": {},
   "outputs": [
    {
     "data": {
      "text/plain": [
       "46985090"
      ]
     },
     "execution_count": 4,
     "metadata": {},
     "output_type": "execute_result"
    }
   ],
   "source": [
    "len(melted_df)"
   ]
  },
  {
   "cell_type": "code",
   "execution_count": 5,
   "metadata": {},
   "outputs": [],
   "source": [
    "data_price_df = pd.read_csv('./items_weekly_sell_prices.csv') \n",
    "data_price_df['item_id'] = data_price_df['item_id'].astype(str)"
   ]
  },
  {
   "cell_type": "code",
   "execution_count": 6,
   "metadata": {
    "scrolled": true
   },
   "outputs": [
    {
     "data": {
      "text/plain": [
       "1969"
      ]
     },
     "execution_count": 6,
     "metadata": {},
     "output_type": "execute_result"
    }
   ],
   "source": [
    "calendar_data = pd.read_csv('./calendar.csv')\n",
    "len(calendar_data)"
   ]
  },
  {
   "cell_type": "code",
   "execution_count": 7,
   "metadata": {},
   "outputs": [],
   "source": [
    "train_data = pd.merge(melted_df,calendar_data, left_on='day', right_on='d', how='left')\n",
    "columns_to_drop = ['d', 'day']\n",
    "train_data = train_data.drop(columns=columns_to_drop)\n",
    "\n",
    "\n",
    "# Create label encoders for categorical columns\n",
    "label_encoders = {}\n",
    "categorical_cols = ['item_id', 'store_id']\n",
    "for col in categorical_cols:\n",
    "    le = LabelEncoder()\n",
    "    train_data[col] = le.fit_transform(train_data[col])\n",
    "    label_encoders[col] = le\n",
    "    \n",
    "# Encode categorical variables using label encoding for prices data\n",
    "categorical_cols_sp = ['item_id', 'store_id']\n",
    "for col in categorical_cols_sp:\n",
    "    le = label_encoders[col]\n",
    "    data_price_df[col] = le.transform(data_price_df[col])\n"
   ]
  },
  {
   "cell_type": "code",
   "execution_count": 8,
   "metadata": {},
   "outputs": [
    {
     "data": {
      "text/html": [
       "<div>\n",
       "<style scoped>\n",
       "    .dataframe tbody tr th:only-of-type {\n",
       "        vertical-align: middle;\n",
       "    }\n",
       "\n",
       "    .dataframe tbody tr th {\n",
       "        vertical-align: top;\n",
       "    }\n",
       "\n",
       "    .dataframe thead th {\n",
       "        text-align: right;\n",
       "    }\n",
       "</style>\n",
       "<table border=\"1\" class=\"dataframe\">\n",
       "  <thead>\n",
       "    <tr style=\"text-align: right;\">\n",
       "      <th></th>\n",
       "      <th>store_id</th>\n",
       "      <th>item_id</th>\n",
       "      <th>wm_yr_wk</th>\n",
       "      <th>sell_price</th>\n",
       "    </tr>\n",
       "  </thead>\n",
       "  <tbody>\n",
       "    <tr>\n",
       "      <th>0</th>\n",
       "      <td>0</td>\n",
       "      <td>1437</td>\n",
       "      <td>11325</td>\n",
       "      <td>9.58</td>\n",
       "    </tr>\n",
       "    <tr>\n",
       "      <th>1</th>\n",
       "      <td>0</td>\n",
       "      <td>1437</td>\n",
       "      <td>11326</td>\n",
       "      <td>9.58</td>\n",
       "    </tr>\n",
       "    <tr>\n",
       "      <th>2</th>\n",
       "      <td>0</td>\n",
       "      <td>1437</td>\n",
       "      <td>11327</td>\n",
       "      <td>8.26</td>\n",
       "    </tr>\n",
       "    <tr>\n",
       "      <th>3</th>\n",
       "      <td>0</td>\n",
       "      <td>1437</td>\n",
       "      <td>11328</td>\n",
       "      <td>8.26</td>\n",
       "    </tr>\n",
       "    <tr>\n",
       "      <th>4</th>\n",
       "      <td>0</td>\n",
       "      <td>1437</td>\n",
       "      <td>11329</td>\n",
       "      <td>8.26</td>\n",
       "    </tr>\n",
       "    <tr>\n",
       "      <th>...</th>\n",
       "      <td>...</td>\n",
       "      <td>...</td>\n",
       "      <td>...</td>\n",
       "      <td>...</td>\n",
       "    </tr>\n",
       "    <tr>\n",
       "      <th>6841116</th>\n",
       "      <td>9</td>\n",
       "      <td>1436</td>\n",
       "      <td>11617</td>\n",
       "      <td>1.00</td>\n",
       "    </tr>\n",
       "    <tr>\n",
       "      <th>6841117</th>\n",
       "      <td>9</td>\n",
       "      <td>1436</td>\n",
       "      <td>11618</td>\n",
       "      <td>1.00</td>\n",
       "    </tr>\n",
       "    <tr>\n",
       "      <th>6841118</th>\n",
       "      <td>9</td>\n",
       "      <td>1436</td>\n",
       "      <td>11619</td>\n",
       "      <td>1.00</td>\n",
       "    </tr>\n",
       "    <tr>\n",
       "      <th>6841119</th>\n",
       "      <td>9</td>\n",
       "      <td>1436</td>\n",
       "      <td>11620</td>\n",
       "      <td>1.00</td>\n",
       "    </tr>\n",
       "    <tr>\n",
       "      <th>6841120</th>\n",
       "      <td>9</td>\n",
       "      <td>1436</td>\n",
       "      <td>11621</td>\n",
       "      <td>1.00</td>\n",
       "    </tr>\n",
       "  </tbody>\n",
       "</table>\n",
       "<p>6841121 rows × 4 columns</p>\n",
       "</div>"
      ],
      "text/plain": [
       "         store_id  item_id  wm_yr_wk  sell_price\n",
       "0               0     1437     11325        9.58\n",
       "1               0     1437     11326        9.58\n",
       "2               0     1437     11327        8.26\n",
       "3               0     1437     11328        8.26\n",
       "4               0     1437     11329        8.26\n",
       "...           ...      ...       ...         ...\n",
       "6841116         9     1436     11617        1.00\n",
       "6841117         9     1436     11618        1.00\n",
       "6841118         9     1436     11619        1.00\n",
       "6841119         9     1436     11620        1.00\n",
       "6841120         9     1436     11621        1.00\n",
       "\n",
       "[6841121 rows x 4 columns]"
      ]
     },
     "execution_count": 8,
     "metadata": {},
     "output_type": "execute_result"
    }
   ],
   "source": [
    "data_price_df"
   ]
  },
  {
   "cell_type": "code",
   "execution_count": 9,
   "metadata": {},
   "outputs": [
    {
     "data": {
      "text/html": [
       "<div>\n",
       "<style scoped>\n",
       "    .dataframe tbody tr th:only-of-type {\n",
       "        vertical-align: middle;\n",
       "    }\n",
       "\n",
       "    .dataframe tbody tr th {\n",
       "        vertical-align: top;\n",
       "    }\n",
       "\n",
       "    .dataframe thead th {\n",
       "        text-align: right;\n",
       "    }\n",
       "</style>\n",
       "<table border=\"1\" class=\"dataframe\">\n",
       "  <thead>\n",
       "    <tr style=\"text-align: right;\">\n",
       "      <th></th>\n",
       "      <th>item_id</th>\n",
       "      <th>store_id</th>\n",
       "      <th>value</th>\n",
       "      <th>date</th>\n",
       "      <th>wm_yr_wk</th>\n",
       "    </tr>\n",
       "  </thead>\n",
       "  <tbody>\n",
       "    <tr>\n",
       "      <th>0</th>\n",
       "      <td>1437</td>\n",
       "      <td>0</td>\n",
       "      <td>0</td>\n",
       "      <td>2011-01-29</td>\n",
       "      <td>11101</td>\n",
       "    </tr>\n",
       "    <tr>\n",
       "      <th>1</th>\n",
       "      <td>1438</td>\n",
       "      <td>0</td>\n",
       "      <td>0</td>\n",
       "      <td>2011-01-29</td>\n",
       "      <td>11101</td>\n",
       "    </tr>\n",
       "    <tr>\n",
       "      <th>2</th>\n",
       "      <td>1439</td>\n",
       "      <td>0</td>\n",
       "      <td>0</td>\n",
       "      <td>2011-01-29</td>\n",
       "      <td>11101</td>\n",
       "    </tr>\n",
       "    <tr>\n",
       "      <th>3</th>\n",
       "      <td>1440</td>\n",
       "      <td>0</td>\n",
       "      <td>0</td>\n",
       "      <td>2011-01-29</td>\n",
       "      <td>11101</td>\n",
       "    </tr>\n",
       "    <tr>\n",
       "      <th>4</th>\n",
       "      <td>1441</td>\n",
       "      <td>0</td>\n",
       "      <td>0</td>\n",
       "      <td>2011-01-29</td>\n",
       "      <td>11101</td>\n",
       "    </tr>\n",
       "    <tr>\n",
       "      <th>...</th>\n",
       "      <td>...</td>\n",
       "      <td>...</td>\n",
       "      <td>...</td>\n",
       "      <td>...</td>\n",
       "      <td>...</td>\n",
       "    </tr>\n",
       "    <tr>\n",
       "      <th>46985085</th>\n",
       "      <td>1432</td>\n",
       "      <td>9</td>\n",
       "      <td>2</td>\n",
       "      <td>2015-04-18</td>\n",
       "      <td>11512</td>\n",
       "    </tr>\n",
       "    <tr>\n",
       "      <th>46985086</th>\n",
       "      <td>1433</td>\n",
       "      <td>9</td>\n",
       "      <td>0</td>\n",
       "      <td>2015-04-18</td>\n",
       "      <td>11512</td>\n",
       "    </tr>\n",
       "    <tr>\n",
       "      <th>46985087</th>\n",
       "      <td>1434</td>\n",
       "      <td>9</td>\n",
       "      <td>0</td>\n",
       "      <td>2015-04-18</td>\n",
       "      <td>11512</td>\n",
       "    </tr>\n",
       "    <tr>\n",
       "      <th>46985088</th>\n",
       "      <td>1435</td>\n",
       "      <td>9</td>\n",
       "      <td>0</td>\n",
       "      <td>2015-04-18</td>\n",
       "      <td>11512</td>\n",
       "    </tr>\n",
       "    <tr>\n",
       "      <th>46985089</th>\n",
       "      <td>1436</td>\n",
       "      <td>9</td>\n",
       "      <td>3</td>\n",
       "      <td>2015-04-18</td>\n",
       "      <td>11512</td>\n",
       "    </tr>\n",
       "  </tbody>\n",
       "</table>\n",
       "<p>46985090 rows × 5 columns</p>\n",
       "</div>"
      ],
      "text/plain": [
       "          item_id  store_id  value        date  wm_yr_wk\n",
       "0            1437         0      0  2011-01-29     11101\n",
       "1            1438         0      0  2011-01-29     11101\n",
       "2            1439         0      0  2011-01-29     11101\n",
       "3            1440         0      0  2011-01-29     11101\n",
       "4            1441         0      0  2011-01-29     11101\n",
       "...           ...       ...    ...         ...       ...\n",
       "46985085     1432         9      2  2015-04-18     11512\n",
       "46985086     1433         9      0  2015-04-18     11512\n",
       "46985087     1434         9      0  2015-04-18     11512\n",
       "46985088     1435         9      0  2015-04-18     11512\n",
       "46985089     1436         9      3  2015-04-18     11512\n",
       "\n",
       "[46985090 rows x 5 columns]"
      ]
     },
     "execution_count": 9,
     "metadata": {},
     "output_type": "execute_result"
    }
   ],
   "source": [
    "train_data"
   ]
  },
  {
   "cell_type": "code",
   "execution_count": 10,
   "metadata": {},
   "outputs": [
    {
     "data": {
      "text/html": [
       "<div>\n",
       "<style scoped>\n",
       "    .dataframe tbody tr th:only-of-type {\n",
       "        vertical-align: middle;\n",
       "    }\n",
       "\n",
       "    .dataframe tbody tr th {\n",
       "        vertical-align: top;\n",
       "    }\n",
       "\n",
       "    .dataframe thead th {\n",
       "        text-align: right;\n",
       "    }\n",
       "</style>\n",
       "<table border=\"1\" class=\"dataframe\">\n",
       "  <thead>\n",
       "    <tr style=\"text-align: right;\">\n",
       "      <th></th>\n",
       "      <th>item_id</th>\n",
       "      <th>store_id</th>\n",
       "      <th>value</th>\n",
       "      <th>date</th>\n",
       "      <th>wm_yr_wk</th>\n",
       "      <th>sell_price</th>\n",
       "    </tr>\n",
       "  </thead>\n",
       "  <tbody>\n",
       "    <tr>\n",
       "      <th>0</th>\n",
       "      <td>1437</td>\n",
       "      <td>0</td>\n",
       "      <td>0.0</td>\n",
       "      <td>2013-07-13</td>\n",
       "      <td>11325</td>\n",
       "      <td>9.58</td>\n",
       "    </tr>\n",
       "    <tr>\n",
       "      <th>1</th>\n",
       "      <td>1437</td>\n",
       "      <td>0</td>\n",
       "      <td>0.0</td>\n",
       "      <td>2013-07-14</td>\n",
       "      <td>11325</td>\n",
       "      <td>9.58</td>\n",
       "    </tr>\n",
       "    <tr>\n",
       "      <th>2</th>\n",
       "      <td>1437</td>\n",
       "      <td>0</td>\n",
       "      <td>0.0</td>\n",
       "      <td>2013-07-15</td>\n",
       "      <td>11325</td>\n",
       "      <td>9.58</td>\n",
       "    </tr>\n",
       "    <tr>\n",
       "      <th>3</th>\n",
       "      <td>1437</td>\n",
       "      <td>0</td>\n",
       "      <td>0.0</td>\n",
       "      <td>2013-07-16</td>\n",
       "      <td>11325</td>\n",
       "      <td>9.58</td>\n",
       "    </tr>\n",
       "    <tr>\n",
       "      <th>4</th>\n",
       "      <td>1437</td>\n",
       "      <td>0</td>\n",
       "      <td>0.0</td>\n",
       "      <td>2013-07-17</td>\n",
       "      <td>11325</td>\n",
       "      <td>9.58</td>\n",
       "    </tr>\n",
       "    <tr>\n",
       "      <th>...</th>\n",
       "      <td>...</td>\n",
       "      <td>...</td>\n",
       "      <td>...</td>\n",
       "      <td>...</td>\n",
       "      <td>...</td>\n",
       "      <td>...</td>\n",
       "    </tr>\n",
       "    <tr>\n",
       "      <th>36575940</th>\n",
       "      <td>1436</td>\n",
       "      <td>9</td>\n",
       "      <td>NaN</td>\n",
       "      <td>NaN</td>\n",
       "      <td>11617</td>\n",
       "      <td>1.00</td>\n",
       "    </tr>\n",
       "    <tr>\n",
       "      <th>36575941</th>\n",
       "      <td>1436</td>\n",
       "      <td>9</td>\n",
       "      <td>NaN</td>\n",
       "      <td>NaN</td>\n",
       "      <td>11618</td>\n",
       "      <td>1.00</td>\n",
       "    </tr>\n",
       "    <tr>\n",
       "      <th>36575942</th>\n",
       "      <td>1436</td>\n",
       "      <td>9</td>\n",
       "      <td>NaN</td>\n",
       "      <td>NaN</td>\n",
       "      <td>11619</td>\n",
       "      <td>1.00</td>\n",
       "    </tr>\n",
       "    <tr>\n",
       "      <th>36575943</th>\n",
       "      <td>1436</td>\n",
       "      <td>9</td>\n",
       "      <td>NaN</td>\n",
       "      <td>NaN</td>\n",
       "      <td>11620</td>\n",
       "      <td>1.00</td>\n",
       "    </tr>\n",
       "    <tr>\n",
       "      <th>36575944</th>\n",
       "      <td>1436</td>\n",
       "      <td>9</td>\n",
       "      <td>NaN</td>\n",
       "      <td>NaN</td>\n",
       "      <td>11621</td>\n",
       "      <td>1.00</td>\n",
       "    </tr>\n",
       "  </tbody>\n",
       "</table>\n",
       "<p>36575945 rows × 6 columns</p>\n",
       "</div>"
      ],
      "text/plain": [
       "          item_id  store_id  value        date  wm_yr_wk  sell_price\n",
       "0            1437         0    0.0  2013-07-13     11325        9.58\n",
       "1            1437         0    0.0  2013-07-14     11325        9.58\n",
       "2            1437         0    0.0  2013-07-15     11325        9.58\n",
       "3            1437         0    0.0  2013-07-16     11325        9.58\n",
       "4            1437         0    0.0  2013-07-17     11325        9.58\n",
       "...           ...       ...    ...         ...       ...         ...\n",
       "36575940     1436         9    NaN         NaN     11617        1.00\n",
       "36575941     1436         9    NaN         NaN     11618        1.00\n",
       "36575942     1436         9    NaN         NaN     11619        1.00\n",
       "36575943     1436         9    NaN         NaN     11620        1.00\n",
       "36575944     1436         9    NaN         NaN     11621        1.00\n",
       "\n",
       "[36575945 rows x 6 columns]"
      ]
     },
     "execution_count": 10,
     "metadata": {},
     "output_type": "execute_result"
    }
   ],
   "source": [
    "right_join = pd.merge(train_data,data_price_df, left_on=['store_id','item_id','wm_yr_wk'], right_on=['store_id','item_id','wm_yr_wk'], how='right')\n",
    "right_join"
   ]
  },
  {
   "cell_type": "code",
   "execution_count": 11,
   "metadata": {},
   "outputs": [],
   "source": [
    "df_cleaned = right_join.dropna(subset=['value'])"
   ]
  },
  {
   "cell_type": "code",
   "execution_count": 12,
   "metadata": {
    "scrolled": true
   },
   "outputs": [
    {
     "name": "stderr",
     "output_type": "stream",
     "text": [
      "C:\\Users\\anika\\AppData\\Local\\Temp\\ipykernel_5636\\3642098738.py:1: SettingWithCopyWarning: \n",
      "A value is trying to be set on a copy of a slice from a DataFrame.\n",
      "Try using .loc[row_indexer,col_indexer] = value instead\n",
      "\n",
      "See the caveats in the documentation: https://pandas.pydata.org/pandas-docs/stable/user_guide/indexing.html#returning-a-view-versus-a-copy\n",
      "  df_cleaned['cya_target'] = df_cleaned['value'] * df_cleaned['sell_price']\n",
      "C:\\Users\\anika\\AppData\\Local\\Temp\\ipykernel_5636\\3642098738.py:3: SettingWithCopyWarning: \n",
      "A value is trying to be set on a copy of a slice from a DataFrame.\n",
      "Try using .loc[row_indexer,col_indexer] = value instead\n",
      "\n",
      "See the caveats in the documentation: https://pandas.pydata.org/pandas-docs/stable/user_guide/indexing.html#returning-a-view-versus-a-copy\n",
      "  df_cleaned['date'] = pd.to_datetime(df_cleaned['date'], format='%Y-%m-%d')\n"
     ]
    }
   ],
   "source": [
    "df_cleaned['cya_target'] = df_cleaned['value'] * df_cleaned['sell_price']\n",
    "\n",
    "df_cleaned['date'] = pd.to_datetime(df_cleaned['date'], format='%Y-%m-%d')"
   ]
  },
  {
   "cell_type": "code",
   "execution_count": 13,
   "metadata": {},
   "outputs": [
    {
     "name": "stderr",
     "output_type": "stream",
     "text": [
      "C:\\Users\\anika\\AppData\\Local\\Temp\\ipykernel_5636\\2260052284.py:1: SettingWithCopyWarning: \n",
      "A value is trying to be set on a copy of a slice from a DataFrame.\n",
      "Try using .loc[row_indexer,col_indexer] = value instead\n",
      "\n",
      "See the caveats in the documentation: https://pandas.pydata.org/pandas-docs/stable/user_guide/indexing.html#returning-a-view-versus-a-copy\n",
      "  df_cleaned['date_timestamp'] = df_cleaned['date'].values.astype('int64') // 10**9  # Convert to seconds\n"
     ]
    }
   ],
   "source": [
    "df_cleaned['date_timestamp'] = df_cleaned['date'].values.astype('int64') // 10**9  # Convert to seconds\n",
    "\n",
    "df_cleaned = df_cleaned.drop(columns=['date'])\n"
   ]
  },
  {
   "cell_type": "code",
   "execution_count": 14,
   "metadata": {},
   "outputs": [],
   "source": [
    "numerical_cols_int = ['item_id', 'store_id', 'date_timestamp']\n",
    "for col in numerical_cols_int:\n",
    "    df_cleaned.loc[:, col] = df_cleaned[col].astype('int64')\n",
    "numeric_transformer = Pipeline(\n",
    "    steps=[\n",
    "        ('scaler', StandardScaler())\n",
    "    ]\n",
    ")\n"
   ]
  },
  {
   "cell_type": "code",
   "execution_count": 16,
   "metadata": {
    "scrolled": true
   },
   "outputs": [],
   "source": [
    "preprocessor = ColumnTransformer(\n",
    "    transformers=[\n",
    "        ('num', numeric_transformer, numerical_cols_int)\n",
    "    ]\n",
    ")"
   ]
  },
  {
   "cell_type": "code",
   "execution_count": 17,
   "metadata": {},
   "outputs": [],
   "source": [
    "# Split data into features and target variable\n",
    "X = df_cleaned[['item_id', 'store_id', 'date_timestamp']]\n",
    "y = df_cleaned['cya_target']\n",
    "\n",
    "X_train, X_eval, y_train, y_eval = train_test_split(X, y, test_size=0.2, random_state=42)"
   ]
  },
  {
   "cell_type": "code",
   "execution_count": 18,
   "metadata": {},
   "outputs": [
    {
     "name": "stdout",
     "output_type": "stream",
     "text": [
      "Mean Absolute Error (MAE) for Baseline Model (Mean Prediction): 5.29756962824539\n"
     ]
    }
   ],
   "source": [
    "# Calculate the mean of the target variable 'cya_target' in the training data\n",
    "baseline_prediction = y_train.mean()\n",
    "\n",
    "# Create an array of baseline predictions with the same length as the evaluation data\n",
    "baseline_predictions = [baseline_prediction] * len(y_eval)\n",
    "\n",
    "# Calculate the Mean Absolute Error (MAE) for the baseline model\n",
    "mae_baseline = mean_absolute_error(y_eval, baseline_predictions)\n",
    "\n",
    "print(\"Mean Absolute Error (MAE) for Baseline Model (Mean Prediction):\", mae_baseline)"
   ]
  },
  {
   "cell_type": "code",
   "execution_count": null,
   "metadata": {},
   "outputs": [],
   "source": []
  }
 ],
 "metadata": {
  "kernelspec": {
   "display_name": "Python 3 (ipykernel)",
   "language": "python",
   "name": "python3"
  },
  "language_info": {
   "codemirror_mode": {
    "name": "ipython",
    "version": 3
   },
   "file_extension": ".py",
   "mimetype": "text/x-python",
   "name": "python",
   "nbconvert_exporter": "python",
   "pygments_lexer": "ipython3",
   "version": "3.11.4"
  }
 },
 "nbformat": 4,
 "nbformat_minor": 2
}
